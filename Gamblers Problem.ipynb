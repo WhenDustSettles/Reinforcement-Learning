{
 "cells": [
  {
   "cell_type": "markdown",
   "metadata": {},
   "source": [
    "### This is Example 4.3. Gambler’s Problem from Sutton's book.\n",
    "\n",
    "A gambler has the opportunity to make bets on the outcomes of a sequence of coin flips. \n",
    "If the coin comes up heads, he wins as many dollars as he has staked on that flip; \n",
    "if it is tails, he loses his stake. The game ends when the gambler wins by reaching his goal of $99, \n",
    "or loses by running out of money. \n",
    "\n",
    "On each flip, the gambler must decide what portion of his capital to stake, in integer numbers of dollars. \n",
    "This problem can be formulated as an undiscounted, episodic, finite MDP. \n",
    "\n",
    "The state is the gambler’s capital, s ∈ {1, 2, . . . , 99}.\n",
    "The actions are stakes, a ∈ {0, 1, . . . , min(s, 99 − s)}. \n",
    "The reward is zero on all transitions except those on which the gambler reaches his goal, when it is +1.\n",
    "\n",
    "The state-value function then gives the probability of winning from each state. A policy is a mapping from levels of capital to stakes. The optimal policy maximizes the probability of reaching the goal. Let p_h denote the probability of the coin coming up heads. If p_h is known, then the entire problem is known and it can be solved, for instance, by value iteration.\n"
   ]
  },
  {
   "cell_type": "code",
   "execution_count": 14,
   "metadata": {},
   "outputs": [],
   "source": [
    "import numpy as np\n",
    "import sys\n",
    "import matplotlib.pyplot as plt\n",
    "if \"../\" not in sys.path:\n",
    "  sys.path.append(\"../\") "
   ]
  },
  {
   "cell_type": "markdown",
   "metadata": {},
   "source": [
    "\n",
    "### Exercise 4.9 (programming)\n",
    "\n",
    "Implement value iteration for the gambler’s problem and solve it for p_h = 0.25 and p_h = 0.55.\n",
    "\n"
   ]
  },
  {
   "cell_type": "code",
   "execution_count": 17,
   "metadata": {},
   "outputs": [],
   "source": [
    "def value_iteration_for_gamblers(p_h, theta=0.0001, discount_factor=1.0):\n",
    "    \"\"\"\n",
    "    Args:\n",
    "        p_h: Probability of the coin coming up heads\n",
    "    \"\"\"\n",
    "    rewards = np.eye(100)[99]\n",
    "    def one_step_lookahead(s, V, rewards):\n",
    "        \"\"\"\n",
    "        Helper function to calculate the value for all action in a given state.\n",
    "        \n",
    "        Args:\n",
    "            s: The gambler’s capital (i.e. his/her state). Integer.\n",
    "            V: The vector that contains values at each state. \n",
    "            rewards: The reward vector.\n",
    "                        \n",
    "        Returns:\n",
    "            A vector containing the expected value of each action. \n",
    "            Its length equals to the number of actions.\n",
    "        \"\"\"\n",
    "        \n",
    "        # Implement!\n",
    "        A = np.zeros(100)\n",
    "        for a in range(1,min(s,99-s)+1):\n",
    "            \n",
    "            A[a] += p_h*(rewards[s+a] + discount_factor*V[s+a]) + (1-p_h)*(rewards[s-a] + discount_factor*V[s-a])\n",
    "            \n",
    "        return A\n",
    "    V = np.zeros(100)\n",
    "    # Implement!\n",
    "    while True:\n",
    "        \n",
    "        \n",
    "        delta = 0\n",
    "        for s in range(1,99):\n",
    "        \n",
    "            #do a one-step-lookahead\n",
    "            exp_vals = one_step_lookahead(s,V,rewards)\n",
    "        \n",
    "            v = np.max(exp_vals)\n",
    "        \n",
    "            delta = max(delta,np.abs(v-V[s]))\n",
    "            V[s] = v\n",
    "        if delta < theta:\n",
    "            break\n",
    "    policy = np.zeros(99)\n",
    "    #for policy, we just need to act greedy wrt this Value Function.\n",
    "    for s in range(1,99):\n",
    "        exp_vals = one_step_lookahead(s,V,rewards)\n",
    "        policy[s] = np.argmax(exp_vals)\n",
    "    \n",
    "    return policy, V"
   ]
  },
  {
   "cell_type": "code",
   "execution_count": 24,
   "metadata": {},
   "outputs": [
    {
     "name": "stdout",
     "output_type": "stream",
     "text": [
      "Optimized Policy:\n",
      "[ 0.  1.  2.  3.  4.  5.  6.  7.  8.  9. 10. 11. 12. 13. 14. 15. 16. 17.\n",
      " 18. 19. 20. 21. 22. 23. 24. 25. 26. 27. 28. 29. 30. 31. 32. 33. 34. 35.\n",
      " 36. 37. 38. 39. 40. 41. 42. 43. 44. 45. 46. 47. 48. 49. 49. 48. 47. 46.\n",
      " 45. 44. 43. 42. 41. 40. 39. 38. 37. 36. 35. 34. 33. 32. 31. 30. 29. 28.\n",
      " 27. 26. 25. 24. 23. 22. 21. 20. 19. 18. 17. 16. 15. 14. 13. 12. 11. 10.\n",
      "  9.  8.  7.  6.  5.  4.  3.  2.  1.]\n",
      "\n",
      "Optimized Value Function:\n",
      "[0.00000000e+00 6.10351562e-05 2.89916992e-04 7.44819641e-04\n",
      " 1.15966797e-03 1.78837776e-03 2.97927856e-03 4.08935547e-03\n",
      " 4.67300415e-03 5.67722321e-03 7.17885792e-03 9.09274817e-03\n",
      " 1.19171143e-02 1.57051086e-02 1.63574219e-02 1.70869827e-02\n",
      " 1.87187465e-02 2.03933486e-02 2.27088928e-02 2.74810791e-02\n",
      " 2.87377092e-02 3.12662125e-02 3.63709927e-02 3.96584154e-02\n",
      " 4.76684570e-02 6.25000000e-02 6.28204346e-02 6.35644794e-02\n",
      " 6.54296875e-02 6.63222491e-02 6.83624148e-02 7.42187500e-02\n",
      " 7.49345624e-02 7.69197345e-02 8.15759722e-02 8.49647522e-02\n",
      " 9.08500552e-02 1.01741096e-01 1.09950066e-01 1.11777857e-01\n",
      " 1.14950837e-01 1.19812012e-01 1.25090197e-01 1.33711755e-01\n",
      " 1.45483971e-01 1.51233789e-01 1.58633662e-01 1.73072234e-01\n",
      " 1.90718015e-01 2.09285846e-01 2.50045776e-01 2.50558615e-01\n",
      " 2.51341283e-01 2.53067017e-01 2.54257917e-01 2.56819561e-01\n",
      " 2.61778831e-01 2.62815237e-01 2.65295011e-01 2.70610809e-01\n",
      " 2.73449659e-01 2.79743812e-01 2.96875000e-01 2.97673360e-01\n",
      " 2.99741687e-01 3.05664062e-01 3.07689801e-01 3.13723564e-01\n",
      " 3.26305822e-01 3.33833393e-01 3.39859009e-01 3.50283816e-01\n",
      " 3.63425341e-01 3.79804175e-01 4.06964385e-01 4.37918961e-01\n",
      " 4.39800262e-01 4.42614671e-01 4.47111428e-01 4.52958107e-01\n",
      " 4.59807859e-01 4.73255020e-01 4.79248047e-01 4.85292673e-01\n",
      " 5.00375045e-01 5.12712862e-01 5.34853132e-01 5.78439221e-01\n",
      " 5.81961003e-01 5.89718580e-01 6.04941265e-01 6.13969505e-01\n",
      " 6.34534647e-01 6.83829416e-01 6.92288935e-01 7.10477129e-01\n",
      " 7.62872062e-01 7.82857846e-01 8.37143385e-01 0.00000000e+00]\n",
      "\n"
     ]
    }
   ],
   "source": [
    "policy, v = value_iteration_for_gamblers(0.25)\n",
    "\n",
    "print(\"Optimized Policy:\")\n",
    "print(policy)\n",
    "print(\"\")\n",
    "\n",
    "print(\"Optimized Value Function:\")\n",
    "print(v)\n",
    "print(\"\")"
   ]
  },
  {
   "cell_type": "code",
   "execution_count": 25,
   "metadata": {},
   "outputs": [
    {
     "data": {
      "text/plain": [
       "Text(0.5, 0, 'Capital')"
      ]
     },
     "execution_count": 25,
     "metadata": {},
     "output_type": "execute_result"
    },
    {
     "data": {
      "image/png": "[encoded data removed]",
      "text/plain": [
       "<Figure size 432x288 with 1 Axes>"
      ]
     },
     "metadata": {},
     "output_type": "display_data"
    }
   ],
   "source": [
    "# Plotting Final Policy (action stake) vs State (Capital)\n",
    "plt.style.use('ggplot')\n",
    "x = policy\n",
    "y = np.linspace(0,99,99)\n",
    "plt.bar(y,x)\n",
    "plt.ylabel('Policy (Action Stake)')\n",
    "plt.xlabel('Capital')\n",
    "# Implement!"
   ]
  },
  {
   "cell_type": "code",
   "execution_count": 26,
   "metadata": {},
   "outputs": [
    {
     "data": {
      "text/plain": [
       "Text(0, 0.5, 'Value of State')"
      ]
     },
     "execution_count": 26,
     "metadata": {},
     "output_type": "execute_result"
    },
    {
     "data": {
      "image/png": "[encoded data removed]",
      "text/plain": [
       "<Figure size 432x288 with 1 Axes>"
      ]
     },
     "metadata": {},
     "output_type": "display_data"
    }
   ],
   "source": [
    "# Plotting Capital vs Final Policy\n",
    "plt.plot(y,v[:99])\n",
    "plt.xlabel('Capital')\n",
    "plt.ylabel('Value of State')\n",
    "# Implement!\n"
   ]
  },
  {
   "cell_type": "markdown",
   "metadata": {},
   "source": [
    "Exactly as expected, the value of the states close to target, i.e. $99 is higher than those at the other end of the spectrum."
   ]
  },
  {
   "cell_type": "code",
   "execution_count": null,
   "metadata": {},
   "outputs": [],
   "source": []
  }
 ],
 "metadata": {
  "kernelspec": {
   "display_name": "Python 3",
   "language": "python",
   "name": "python3"
  },
  "language_info": {
   "codemirror_mode": {
    "name": "ipython",
    "version": 3
   },
   "file_extension": ".py",
   "mimetype": "text/x-python",
   "name": "python",
   "nbconvert_exporter": "python",
   "pygments_lexer": "ipython3",
   "version": "3.6.5"
  }
 },
 "nbformat": 4,
 "nbformat_minor": 4
}
